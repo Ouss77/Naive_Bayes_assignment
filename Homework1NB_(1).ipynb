{
  "nbformat": 4,
  "nbformat_minor": 0,
  "metadata": {
    "colab": {
      "name": "Homework1NB (1).ipynb",
      "provenance": [],
      "collapsed_sections": []
    },
    "kernelspec": {
      "name": "python3",
      "display_name": "Python 3"
    },
    "language_info": {
      "name": "python"
    }
  },
  "cells": [
    {
      "cell_type": "markdown",
      "metadata": {
        "id": "8a_LcDLatPb7"
      },
      "source": [
        "Importing **Lybraries**\n"
      ]
    },
    {
      "cell_type": "code",
      "metadata": {
        "id": "_fdkdHKzpSbx"
      },
      "source": [
        "import numpy as np\n",
        "import matplotlib.pyplot as plt\n",
        "import pandas as pd\n",
        "import sklearn\n",
        "from sklearn.model_selection import train_test_split\n",
        "from sklearn.naive_bayes import GaussianNB\n",
        "from sklearn.metrics import accuracy_score\n",
        "from sklearn.neighbors import KernelDensity\n",
        "from sklearn.model_selection import GridSearchCV\n",
        "import math\n",
        "from sklearn.metrics import confusion_matrix\n",
        "from sklearn.base import BaseEstimator, ClassifierMixin"
      ],
      "execution_count": null,
      "outputs": []
    },
    {
      "cell_type": "markdown",
      "metadata": {
        "id": "els7gbtrtWy-"
      },
      "source": [
        "Importing **Dataset** & Adding columns name\n",
        "\n"
      ]
    },
    {
      "cell_type": "code",
      "metadata": {
        "colab": {
          "base_uri": "https://localhost:8080/",
          "height": 197
        },
        "id": "tCxK4r3JtG9j",
        "outputId": "f1bbd9dc-305e-4dc5-8882-62e433b491b1"
      },
      "source": [
        "data = pd.read_csv('NB_Dataset.txt', sep=\"\\t\", header=None)\n",
        "data.columns = ['Sex', 'Length', 'Diameter', 'Height', 'Whole weight', 'Shucked weight', 'Viscera weight', 'Shell weight', 'class']\n",
        "X = data.iloc[:, data.columns != 'class'].values\n",
        "y = data.iloc[:, -1].values\n",
        "data.head(5)"
      ],
      "execution_count": null,
      "outputs": [
        {
          "output_type": "execute_result",
          "data": {
            "text/html": [
              "<div>\n",
              "<style scoped>\n",
              "    .dataframe tbody tr th:only-of-type {\n",
              "        vertical-align: middle;\n",
              "    }\n",
              "\n",
              "    .dataframe tbody tr th {\n",
              "        vertical-align: top;\n",
              "    }\n",
              "\n",
              "    .dataframe thead th {\n",
              "        text-align: right;\n",
              "    }\n",
              "</style>\n",
              "<table border=\"1\" class=\"dataframe\">\n",
              "  <thead>\n",
              "    <tr style=\"text-align: right;\">\n",
              "      <th></th>\n",
              "      <th>Sex</th>\n",
              "      <th>Length</th>\n",
              "      <th>Diameter</th>\n",
              "      <th>Height</th>\n",
              "      <th>Whole weight</th>\n",
              "      <th>Shucked weight</th>\n",
              "      <th>Viscera weight</th>\n",
              "      <th>Shell weight</th>\n",
              "      <th>class</th>\n",
              "    </tr>\n",
              "  </thead>\n",
              "  <tbody>\n",
              "    <tr>\n",
              "      <th>0</th>\n",
              "      <td>M</td>\n",
              "      <td>0.455</td>\n",
              "      <td>0.365</td>\n",
              "      <td>0.095</td>\n",
              "      <td>0.5140</td>\n",
              "      <td>0.2245</td>\n",
              "      <td>0.1010</td>\n",
              "      <td>0.150</td>\n",
              "      <td>3</td>\n",
              "    </tr>\n",
              "    <tr>\n",
              "      <th>1</th>\n",
              "      <td>M</td>\n",
              "      <td>0.350</td>\n",
              "      <td>0.265</td>\n",
              "      <td>0.090</td>\n",
              "      <td>0.2255</td>\n",
              "      <td>0.0995</td>\n",
              "      <td>0.0485</td>\n",
              "      <td>0.070</td>\n",
              "      <td>1</td>\n",
              "    </tr>\n",
              "    <tr>\n",
              "      <th>2</th>\n",
              "      <td>F</td>\n",
              "      <td>0.530</td>\n",
              "      <td>0.420</td>\n",
              "      <td>0.135</td>\n",
              "      <td>0.6770</td>\n",
              "      <td>0.2565</td>\n",
              "      <td>0.1415</td>\n",
              "      <td>0.210</td>\n",
              "      <td>2</td>\n",
              "    </tr>\n",
              "    <tr>\n",
              "      <th>3</th>\n",
              "      <td>M</td>\n",
              "      <td>0.440</td>\n",
              "      <td>0.365</td>\n",
              "      <td>0.125</td>\n",
              "      <td>0.5160</td>\n",
              "      <td>0.2155</td>\n",
              "      <td>0.1140</td>\n",
              "      <td>0.155</td>\n",
              "      <td>2</td>\n",
              "    </tr>\n",
              "    <tr>\n",
              "      <th>4</th>\n",
              "      <td>I</td>\n",
              "      <td>0.330</td>\n",
              "      <td>0.255</td>\n",
              "      <td>0.080</td>\n",
              "      <td>0.2050</td>\n",
              "      <td>0.0895</td>\n",
              "      <td>0.0395</td>\n",
              "      <td>0.055</td>\n",
              "      <td>1</td>\n",
              "    </tr>\n",
              "  </tbody>\n",
              "</table>\n",
              "</div>"
            ],
            "text/plain": [
              "  Sex  Length  Diameter  ...  Viscera weight  Shell weight  class\n",
              "0   M   0.455     0.365  ...          0.1010         0.150      3\n",
              "1   M   0.350     0.265  ...          0.0485         0.070      1\n",
              "2   F   0.530     0.420  ...          0.1415         0.210      2\n",
              "3   M   0.440     0.365  ...          0.1140         0.155      2\n",
              "4   I   0.330     0.255  ...          0.0395         0.055      1\n",
              "\n",
              "[5 rows x 9 columns]"
            ]
          },
          "metadata": {
            "tags": []
          },
          "execution_count": 166
        }
      ]
    },
    {
      "cell_type": "markdown",
      "metadata": {
        "id": "C6J3gts2n1LK"
      },
      "source": [
        "Encoding the character variables"
      ]
    },
    {
      "cell_type": "code",
      "metadata": {
        "id": "xguM4cvcnwvh",
        "colab": {
          "base_uri": "https://localhost:8080/"
        },
        "outputId": "c844e08e-6553-4016-e95f-9b5feb03d125"
      },
      "source": [
        "from sklearn.preprocessing import LabelEncoder\n",
        "le = LabelEncoder()\n",
        "X[:,0] = le.fit_transform(X[:,0])\n",
        "print(X)"
      ],
      "execution_count": null,
      "outputs": [
        {
          "output_type": "stream",
          "text": [
            "[[2 0.455 0.365 ... 0.2245 0.10099999999999999 0.15]\n",
            " [2 0.35 0.265 ... 0.0995 0.0485 0.07]\n",
            " [0 0.53 0.42 ... 0.2565 0.1415 0.21]\n",
            " ...\n",
            " [2 0.6 0.475 ... 0.5255 0.2875 0.308]\n",
            " [0 0.625 0.485 ... 0.531 0.261 0.29600000000000004]\n",
            " [2 0.71 0.555 ... 0.9455 0.3765 0.495]]\n"
          ],
          "name": "stdout"
        }
      ]
    },
    {
      "cell_type": "markdown",
      "metadata": {
        "id": "IHowojeBnvJz"
      },
      "source": [
        "**1**-Gaussian Distribution\n",
        "bold text"
      ]
    },
    {
      "cell_type": "code",
      "metadata": {
        "colab": {
          "base_uri": "https://localhost:8080/"
        },
        "id": "hvWFa1nPOxdG",
        "outputId": "d32945d9-6b3a-473e-b107-22fea801e77b"
      },
      "source": [
        "X_train, X_val, y_train, y_val = train_test_split(X,y, train_size=100, random_state=2)\n",
        "gaussian = GaussianNB()\n",
        "gaussian.fit(X_train, y_train)\n",
        "y_pred = gaussian.predict(X_val) \n",
        "print(\"the accuracy is : \" + str(round(accuracy_score(y_pred, y_val) * 100, 2)))\n",
        "c_matrix = confusion_matrix(y_val, y_pred)\n",
        "print(\"the confusion matrix  is :  \\n \"  + str(c_matrix))"
      ],
      "execution_count": null,
      "outputs": [
        {
          "output_type": "stream",
          "text": [
            "the accuracy is : 59.23\n",
            "the confusion matrix  is :  \n",
            " [[ 734   81    3]\n",
            " [ 529 1337  453]\n",
            " [  71  525  344]]\n"
          ],
          "name": "stdout"
        }
      ]
    },
    {
      "cell_type": "code",
      "metadata": {
        "colab": {
          "base_uri": "https://localhost:8080/"
        },
        "id": "aDwi2aAlUsP9",
        "outputId": "c37b069f-e1d1-455a-b7cf-daa5ee36a201"
      },
      "source": [
        "print(\"Total misclassification errors:\")\n",
        "classification_errors = c_matrix[0][1]  + c_matrix[0][2] + c_matrix[1][0] + c_matrix[1][2] + c_matrix[2][0] + c_matrix[2][1]\n",
        "print(classification_errors)\n",
        "print(\"Accuracy of classification:\")\n",
        "accuracy = ((c_matrix[0][0] + c_matrix[1][1] + c_matrix[2][2]) / (len(X))) * 100\n",
        "print(\"%s%%\" % accuracy)"
      ],
      "execution_count": null,
      "outputs": [
        {
          "output_type": "stream",
          "text": [
            "Total misclassification errors:\n",
            "1662\n",
            "Accuracy of classification:\n",
            "57.81661479530764%\n"
          ],
          "name": "stdout"
        }
      ]
    },
    {
      "cell_type": "code",
      "metadata": {
        "colab": {
          "base_uri": "https://localhost:8080/"
        },
        "id": "h6sjoG-WUiNL",
        "outputId": "92252fb5-4fa5-4424-e3d6-7f27930f40f1"
      },
      "source": [
        "X_train, X_val, y_train, y_val = train_test_split(X,y, train_size=1000, random_state = 22)\n",
        "gaussian = GaussianNB()\n",
        "gaussian.fit(X_train, y_train)\n",
        "y_pred = gaussian.predict(X_val)\n",
        "print(\"the accuracy is : \" + str(round(accuracy_score(y_pred, y_val) * 100, 2)))\n",
        "c_matrix = confusion_matrix(y_val, y_pred)\n",
        "print(\"the confusion matrix  is :  \\n \"  + str(c_matrix))"
      ],
      "execution_count": null,
      "outputs": [
        {
          "output_type": "stream",
          "text": [
            "the accuracy is : 56.81\n",
            "the confusion matrix  is :  \n",
            " [[556  65   4]\n",
            " [355 853 595]\n",
            " [ 45 308 396]]\n"
          ],
          "name": "stdout"
        }
      ]
    },
    {
      "cell_type": "code",
      "metadata": {
        "colab": {
          "base_uri": "https://localhost:8080/"
        },
        "id": "s764hkDBWF2P",
        "outputId": "33aa4eec-b4fa-4e54-8ecd-6e89c4f8e373"
      },
      "source": [
        "print(\"Total misclassification errors:\")\n",
        "classification_errors = c_matrix[0][1]  + c_matrix[0][2] + c_matrix[1][0] + c_matrix[1][2] + c_matrix[2][0] + c_matrix[2][1]\n",
        "print(classification_errors)\n",
        "print(\"Accuracy:\")\n",
        "accuracy = ((c_matrix[0][0] + c_matrix[1][1] + c_matrix[2][2]) / (len(X))) * 100\n",
        "print(\"%s%%\" % accuracy)"
      ],
      "execution_count": null,
      "outputs": [
        {
          "output_type": "stream",
          "text": [
            "Total misclassification errors:\n",
            "1372\n",
            "Accuracy:\n",
            "43.212832176203015%\n"
          ],
          "name": "stdout"
        }
      ]
    },
    {
      "cell_type": "markdown",
      "metadata": {
        "id": "57E5XS39Xnoi"
      },
      "source": [
        "# 2-Kernel Estimator\n",
        "**bold text**"
      ]
    },
    {
      "cell_type": "code",
      "metadata": {
        "collapsed": true,
        "deletable": true,
        "editable": true,
        "id": "SBgbhi1o9FqD"
      },
      "source": [
        "class KDEClassifier(BaseEstimator, ClassifierMixin):\n",
        "   \n",
        "    def __init__(self, bandwidth=1.0, kernel='gaussian'):\n",
        "        self.bandwidth = bandwidth\n",
        "        self.kernel = kernel\n",
        "        \n",
        "    def fit(self, X, y):\n",
        "        self.classes_ = np.sort(np.unique(y))\n",
        "        training_sets = [X[y == yi] for yi in self.classes_]\n",
        "        self.models_ = [KernelDensity(bandwidth=self.bandwidth,\n",
        "                                      kernel=self.kernel).fit(Xi)\n",
        "                        for Xi in training_sets]\n",
        "        self.logpriors_ = [np.log(Xi.shape[0] / X.shape[0])\n",
        "                           for Xi in training_sets]\n",
        "        return self\n",
        "        \n",
        "    def predict_proba(self, X):\n",
        "        logprobs = np.array([model.score_samples(X)\n",
        "                             for model in self.models_]).T\n",
        "        result = np.exp(logprobs + self.logpriors_)\n",
        "        return result / result.sum(1, keepdims=True)\n",
        "        \n",
        "    def predict(self, X):\n",
        "        return self.classes_[np.argmax(self.predict_proba(X), 1)]"
      ],
      "execution_count": null,
      "outputs": []
    },
    {
      "cell_type": "code",
      "metadata": {
        "colab": {
          "base_uri": "https://localhost:8080/",
          "height": 1000
        },
        "id": "_1K7OH5o5Fbh",
        "outputId": "ad24db60-1304-4ba6-c4a4-674d13f377e0"
      },
      "source": [
        "X_train, X_val, y_train, y_val = train_test_split(X,y, train_size=100, random_state=2)\n",
        "bandwidths = 10 ** np.linspace(-7, 0.5, 20)\n",
        "grid = GridSearchCV(KDEClassifier(), {'bandwidth': bandwidths})\n",
        "\n",
        "grid.fit(X_train, y_train)\n",
        "y_pred = grid.predict(X_val)\n",
        "scores = grid.cv_results_['mean_test_score']\n",
        "\n",
        "plt.semilogx(bandwidths, scores)\n",
        "plt.xlabel('bandwidth')\n",
        "plt.ylabel('accuracy')\n",
        "plt.title('KDE Model Performance')\n",
        "print(y_pred)"
      ],
      "execution_count": null,
      "outputs": [
        {
          "output_type": "stream",
          "text": [
            "/usr/local/lib/python3.7/dist-packages/ipykernel_launcher.py:21: RuntimeWarning: invalid value encountered in true_divide\n",
            "/usr/local/lib/python3.7/dist-packages/ipykernel_launcher.py:21: RuntimeWarning: invalid value encountered in true_divide\n",
            "/usr/local/lib/python3.7/dist-packages/ipykernel_launcher.py:21: RuntimeWarning: invalid value encountered in true_divide\n",
            "/usr/local/lib/python3.7/dist-packages/ipykernel_launcher.py:21: RuntimeWarning: invalid value encountered in true_divide\n",
            "/usr/local/lib/python3.7/dist-packages/ipykernel_launcher.py:21: RuntimeWarning: invalid value encountered in true_divide\n",
            "/usr/local/lib/python3.7/dist-packages/ipykernel_launcher.py:21: RuntimeWarning: invalid value encountered in true_divide\n",
            "/usr/local/lib/python3.7/dist-packages/ipykernel_launcher.py:21: RuntimeWarning: invalid value encountered in true_divide\n",
            "/usr/local/lib/python3.7/dist-packages/ipykernel_launcher.py:21: RuntimeWarning: invalid value encountered in true_divide\n",
            "/usr/local/lib/python3.7/dist-packages/ipykernel_launcher.py:21: RuntimeWarning: invalid value encountered in true_divide\n",
            "/usr/local/lib/python3.7/dist-packages/ipykernel_launcher.py:21: RuntimeWarning: invalid value encountered in true_divide\n",
            "/usr/local/lib/python3.7/dist-packages/ipykernel_launcher.py:21: RuntimeWarning: invalid value encountered in true_divide\n",
            "/usr/local/lib/python3.7/dist-packages/ipykernel_launcher.py:21: RuntimeWarning: invalid value encountered in true_divide\n",
            "/usr/local/lib/python3.7/dist-packages/ipykernel_launcher.py:21: RuntimeWarning: invalid value encountered in true_divide\n",
            "/usr/local/lib/python3.7/dist-packages/ipykernel_launcher.py:21: RuntimeWarning: invalid value encountered in true_divide\n",
            "/usr/local/lib/python3.7/dist-packages/ipykernel_launcher.py:21: RuntimeWarning: invalid value encountered in true_divide\n",
            "/usr/local/lib/python3.7/dist-packages/ipykernel_launcher.py:21: RuntimeWarning: invalid value encountered in true_divide\n",
            "/usr/local/lib/python3.7/dist-packages/ipykernel_launcher.py:21: RuntimeWarning: invalid value encountered in true_divide\n",
            "/usr/local/lib/python3.7/dist-packages/ipykernel_launcher.py:21: RuntimeWarning: invalid value encountered in true_divide\n",
            "/usr/local/lib/python3.7/dist-packages/ipykernel_launcher.py:21: RuntimeWarning: invalid value encountered in true_divide\n",
            "/usr/local/lib/python3.7/dist-packages/ipykernel_launcher.py:21: RuntimeWarning: invalid value encountered in true_divide\n",
            "/usr/local/lib/python3.7/dist-packages/ipykernel_launcher.py:21: RuntimeWarning: invalid value encountered in true_divide\n",
            "/usr/local/lib/python3.7/dist-packages/ipykernel_launcher.py:21: RuntimeWarning: invalid value encountered in true_divide\n",
            "/usr/local/lib/python3.7/dist-packages/ipykernel_launcher.py:21: RuntimeWarning: invalid value encountered in true_divide\n",
            "/usr/local/lib/python3.7/dist-packages/ipykernel_launcher.py:21: RuntimeWarning: invalid value encountered in true_divide\n",
            "/usr/local/lib/python3.7/dist-packages/ipykernel_launcher.py:21: RuntimeWarning: invalid value encountered in true_divide\n",
            "/usr/local/lib/python3.7/dist-packages/ipykernel_launcher.py:21: RuntimeWarning: invalid value encountered in true_divide\n",
            "/usr/local/lib/python3.7/dist-packages/ipykernel_launcher.py:21: RuntimeWarning: invalid value encountered in true_divide\n",
            "/usr/local/lib/python3.7/dist-packages/ipykernel_launcher.py:21: RuntimeWarning: invalid value encountered in true_divide\n",
            "/usr/local/lib/python3.7/dist-packages/ipykernel_launcher.py:21: RuntimeWarning: invalid value encountered in true_divide\n",
            "/usr/local/lib/python3.7/dist-packages/ipykernel_launcher.py:21: RuntimeWarning: invalid value encountered in true_divide\n",
            "/usr/local/lib/python3.7/dist-packages/ipykernel_launcher.py:21: RuntimeWarning: invalid value encountered in true_divide\n",
            "/usr/local/lib/python3.7/dist-packages/ipykernel_launcher.py:21: RuntimeWarning: invalid value encountered in true_divide\n",
            "/usr/local/lib/python3.7/dist-packages/ipykernel_launcher.py:21: RuntimeWarning: invalid value encountered in true_divide\n",
            "/usr/local/lib/python3.7/dist-packages/ipykernel_launcher.py:21: RuntimeWarning: invalid value encountered in true_divide\n",
            "/usr/local/lib/python3.7/dist-packages/ipykernel_launcher.py:21: RuntimeWarning: invalid value encountered in true_divide\n",
            "/usr/local/lib/python3.7/dist-packages/ipykernel_launcher.py:21: RuntimeWarning: invalid value encountered in true_divide\n",
            "/usr/local/lib/python3.7/dist-packages/ipykernel_launcher.py:21: RuntimeWarning: invalid value encountered in true_divide\n",
            "/usr/local/lib/python3.7/dist-packages/ipykernel_launcher.py:21: RuntimeWarning: invalid value encountered in true_divide\n",
            "/usr/local/lib/python3.7/dist-packages/ipykernel_launcher.py:21: RuntimeWarning: invalid value encountered in true_divide\n",
            "/usr/local/lib/python3.7/dist-packages/ipykernel_launcher.py:21: RuntimeWarning: invalid value encountered in true_divide\n",
            "/usr/local/lib/python3.7/dist-packages/ipykernel_launcher.py:21: RuntimeWarning: invalid value encountered in true_divide\n",
            "/usr/local/lib/python3.7/dist-packages/ipykernel_launcher.py:21: RuntimeWarning: invalid value encountered in true_divide\n",
            "/usr/local/lib/python3.7/dist-packages/ipykernel_launcher.py:21: RuntimeWarning: invalid value encountered in true_divide\n",
            "/usr/local/lib/python3.7/dist-packages/ipykernel_launcher.py:21: RuntimeWarning: invalid value encountered in true_divide\n",
            "/usr/local/lib/python3.7/dist-packages/ipykernel_launcher.py:21: RuntimeWarning: invalid value encountered in true_divide\n",
            "/usr/local/lib/python3.7/dist-packages/ipykernel_launcher.py:21: RuntimeWarning: invalid value encountered in true_divide\n",
            "/usr/local/lib/python3.7/dist-packages/ipykernel_launcher.py:21: RuntimeWarning: invalid value encountered in true_divide\n",
            "/usr/local/lib/python3.7/dist-packages/ipykernel_launcher.py:21: RuntimeWarning: invalid value encountered in true_divide\n",
            "/usr/local/lib/python3.7/dist-packages/ipykernel_launcher.py:21: RuntimeWarning: invalid value encountered in true_divide\n",
            "/usr/local/lib/python3.7/dist-packages/ipykernel_launcher.py:21: RuntimeWarning: invalid value encountered in true_divide\n",
            "/usr/local/lib/python3.7/dist-packages/ipykernel_launcher.py:21: RuntimeWarning: invalid value encountered in true_divide\n",
            "/usr/local/lib/python3.7/dist-packages/ipykernel_launcher.py:21: RuntimeWarning: invalid value encountered in true_divide\n",
            "/usr/local/lib/python3.7/dist-packages/ipykernel_launcher.py:21: RuntimeWarning: invalid value encountered in true_divide\n",
            "/usr/local/lib/python3.7/dist-packages/ipykernel_launcher.py:21: RuntimeWarning: invalid value encountered in true_divide\n",
            "/usr/local/lib/python3.7/dist-packages/ipykernel_launcher.py:21: RuntimeWarning: invalid value encountered in true_divide\n",
            "/usr/local/lib/python3.7/dist-packages/ipykernel_launcher.py:21: RuntimeWarning: invalid value encountered in true_divide\n",
            "/usr/local/lib/python3.7/dist-packages/ipykernel_launcher.py:21: RuntimeWarning: invalid value encountered in true_divide\n",
            "/usr/local/lib/python3.7/dist-packages/ipykernel_launcher.py:21: RuntimeWarning: invalid value encountered in true_divide\n",
            "/usr/local/lib/python3.7/dist-packages/ipykernel_launcher.py:21: RuntimeWarning: invalid value encountered in true_divide\n",
            "/usr/local/lib/python3.7/dist-packages/ipykernel_launcher.py:21: RuntimeWarning: invalid value encountered in true_divide\n",
            "/usr/local/lib/python3.7/dist-packages/ipykernel_launcher.py:21: RuntimeWarning: invalid value encountered in true_divide\n",
            "/usr/local/lib/python3.7/dist-packages/ipykernel_launcher.py:21: RuntimeWarning: invalid value encountered in true_divide\n",
            "/usr/local/lib/python3.7/dist-packages/ipykernel_launcher.py:21: RuntimeWarning: invalid value encountered in true_divide\n"
          ],
          "name": "stderr"
        },
        {
          "output_type": "stream",
          "text": [
            "[2 2 2 ... 2 2 2]\n"
          ],
          "name": "stdout"
        },
        {
          "output_type": "display_data",
          "data": {
            "image/png": "[encoded data removed]",
            "text/plain": [
              "<Figure size 432x288 with 1 Axes>"
            ]
          },
          "metadata": {
            "tags": [],
            "needs_background": "light"
          }
        }
      ]
    },
    {
      "cell_type": "code",
      "metadata": {
        "colab": {
          "base_uri": "https://localhost:8080/"
        },
        "id": "fuVz5J5tnLNL",
        "outputId": "20141cae-8ebe-4a0a-b392-4ae4a92eaf50"
      },
      "source": [
        "print(\"best bandwidth = {0}\".format(grid.best_estimator_.bandwidth))\n",
        "print('the best estimator for CV is : ', grid.best_score_ * 100)\n",
        "print(\"the accuracy is : \" + str(round(accuracy_score(y_pred, y_val) * 100, 2)))\n",
        "c_matrix = confusion_matrix(y_val, y_pred)\n",
        "print(\"the confusion matrix  is :  \\n \"  + str(c_matrix))"
      ],
      "execution_count": null,
      "outputs": [
        {
          "output_type": "stream",
          "text": [
            "best bandwidth = 0.5134832907437549\n",
            "the best estimator for CV is :  69.0\n",
            "the accuracy is : 66.67\n",
            "the confusion matrix  is :  \n",
            " [[ 572  246    0]\n",
            " [ 178 2128   13]\n",
            " [  16  906   18]]\n"
          ],
          "name": "stdout"
        }
      ]
    },
    {
      "cell_type": "code",
      "metadata": {
        "colab": {
          "base_uri": "https://localhost:8080/"
        },
        "id": "y5Y5qxAAchr6",
        "outputId": "da516976-679b-4544-8dd7-c814b6c11f2a"
      },
      "source": [
        "print(\"Total misclassification errors:\")\n",
        "classification_errors = c_matrix[0][1]  + c_matrix[0][2] + c_matrix[1][0] + c_matrix[1][2] + c_matrix[2][0] + c_matrix[2][1]\n",
        "print(classification_errors)\n",
        "print(\"Accuracy:\")\n",
        "accuracy = ((c_matrix[0][0] + c_matrix[1][1] + c_matrix[2][2]) / (len(X))) * 100\n",
        "print(\"%s%%\" % accuracy)"
      ],
      "execution_count": null,
      "outputs": [
        {
          "output_type": "stream",
          "text": [
            "Total misclassification errors:\n",
            "1359\n",
            "Accuracy:\n",
            "65.07062485037109%\n"
          ],
          "name": "stdout"
        }
      ]
    },
    {
      "cell_type": "code",
      "metadata": {
        "colab": {
          "base_uri": "https://localhost:8080/",
          "height": 1000
        },
        "id": "kpT4o9w7jyzP",
        "outputId": "6dccc0e6-fccc-487f-a1c6-28cb14c09e04"
      },
      "source": [
        "X_train, X_val, y_train, y_val = train_test_split(X,y, train_size=1000, random_state=2)\n",
        "bandwidths = 10 ** np.linspace(-7, 0.5, 50)\n",
        "grid1 = GridSearchCV(KDEClassifier(), {'bandwidth': bandwidths})\n",
        "\n",
        "grid1.fit(X_train, y_train)\n",
        "y_pred = grid1.predict(X_val)\n",
        "scores = grid1.cv_results_['mean_test_score']\n",
        "\n",
        "plt.semilogx(bandwidths, scores)\n",
        "plt.xlabel('bandwidth')\n",
        "plt.ylabel('accuracy')\n",
        "plt.title('KDE Model Performance')"
      ],
      "execution_count": null,
      "outputs": [
        {
          "output_type": "stream",
          "text": [
            "/usr/local/lib/python3.7/dist-packages/ipykernel_launcher.py:21: RuntimeWarning: invalid value encountered in true_divide\n",
            "/usr/local/lib/python3.7/dist-packages/ipykernel_launcher.py:21: RuntimeWarning: invalid value encountered in true_divide\n",
            "/usr/local/lib/python3.7/dist-packages/ipykernel_launcher.py:21: RuntimeWarning: invalid value encountered in true_divide\n",
            "/usr/local/lib/python3.7/dist-packages/ipykernel_launcher.py:21: RuntimeWarning: invalid value encountered in true_divide\n",
            "/usr/local/lib/python3.7/dist-packages/ipykernel_launcher.py:21: RuntimeWarning: invalid value encountered in true_divide\n",
            "/usr/local/lib/python3.7/dist-packages/ipykernel_launcher.py:21: RuntimeWarning: invalid value encountered in true_divide\n",
            "/usr/local/lib/python3.7/dist-packages/ipykernel_launcher.py:21: RuntimeWarning: invalid value encountered in true_divide\n",
            "/usr/local/lib/python3.7/dist-packages/ipykernel_launcher.py:21: RuntimeWarning: invalid value encountered in true_divide\n",
            "/usr/local/lib/python3.7/dist-packages/ipykernel_launcher.py:21: RuntimeWarning: invalid value encountered in true_divide\n",
            "/usr/local/lib/python3.7/dist-packages/ipykernel_launcher.py:21: RuntimeWarning: invalid value encountered in true_divide\n",
            "/usr/local/lib/python3.7/dist-packages/ipykernel_launcher.py:21: RuntimeWarning: invalid value encountered in true_divide\n",
            "/usr/local/lib/python3.7/dist-packages/ipykernel_launcher.py:21: RuntimeWarning: invalid value encountered in true_divide\n",
            "/usr/local/lib/python3.7/dist-packages/ipykernel_launcher.py:21: RuntimeWarning: invalid value encountered in true_divide\n",
            "/usr/local/lib/python3.7/dist-packages/ipykernel_launcher.py:21: RuntimeWarning: invalid value encountered in true_divide\n",
            "/usr/local/lib/python3.7/dist-packages/ipykernel_launcher.py:21: RuntimeWarning: invalid value encountered in true_divide\n",
            "/usr/local/lib/python3.7/dist-packages/ipykernel_launcher.py:21: RuntimeWarning: invalid value encountered in true_divide\n",
            "/usr/local/lib/python3.7/dist-packages/ipykernel_launcher.py:21: RuntimeWarning: invalid value encountered in true_divide\n",
            "/usr/local/lib/python3.7/dist-packages/ipykernel_launcher.py:21: RuntimeWarning: invalid value encountered in true_divide\n",
            "/usr/local/lib/python3.7/dist-packages/ipykernel_launcher.py:21: RuntimeWarning: invalid value encountered in true_divide\n",
            "/usr/local/lib/python3.7/dist-packages/ipykernel_launcher.py:21: RuntimeWarning: invalid value encountered in true_divide\n",
            "/usr/local/lib/python3.7/dist-packages/ipykernel_launcher.py:21: RuntimeWarning: invalid value encountered in true_divide\n",
            "/usr/local/lib/python3.7/dist-packages/ipykernel_launcher.py:21: RuntimeWarning: invalid value encountered in true_divide\n",
            "/usr/local/lib/python3.7/dist-packages/ipykernel_launcher.py:21: RuntimeWarning: invalid value encountered in true_divide\n",
            "/usr/local/lib/python3.7/dist-packages/ipykernel_launcher.py:21: RuntimeWarning: invalid value encountered in true_divide\n",
            "/usr/local/lib/python3.7/dist-packages/ipykernel_launcher.py:21: RuntimeWarning: invalid value encountered in true_divide\n",
            "/usr/local/lib/python3.7/dist-packages/ipykernel_launcher.py:21: RuntimeWarning: invalid value encountered in true_divide\n",
            "/usr/local/lib/python3.7/dist-packages/ipykernel_launcher.py:21: RuntimeWarning: invalid value encountered in true_divide\n",
            "/usr/local/lib/python3.7/dist-packages/ipykernel_launcher.py:21: RuntimeWarning: invalid value encountered in true_divide\n",
            "/usr/local/lib/python3.7/dist-packages/ipykernel_launcher.py:21: RuntimeWarning: invalid value encountered in true_divide\n",
            "/usr/local/lib/python3.7/dist-packages/ipykernel_launcher.py:21: RuntimeWarning: invalid value encountered in true_divide\n",
            "/usr/local/lib/python3.7/dist-packages/ipykernel_launcher.py:21: RuntimeWarning: invalid value encountered in true_divide\n",
            "/usr/local/lib/python3.7/dist-packages/ipykernel_launcher.py:21: RuntimeWarning: invalid value encountered in true_divide\n",
            "/usr/local/lib/python3.7/dist-packages/ipykernel_launcher.py:21: RuntimeWarning: invalid value encountered in true_divide\n",
            "/usr/local/lib/python3.7/dist-packages/ipykernel_launcher.py:21: RuntimeWarning: invalid value encountered in true_divide\n",
            "/usr/local/lib/python3.7/dist-packages/ipykernel_launcher.py:21: RuntimeWarning: invalid value encountered in true_divide\n",
            "/usr/local/lib/python3.7/dist-packages/ipykernel_launcher.py:21: RuntimeWarning: invalid value encountered in true_divide\n",
            "/usr/local/lib/python3.7/dist-packages/ipykernel_launcher.py:21: RuntimeWarning: invalid value encountered in true_divide\n",
            "/usr/local/lib/python3.7/dist-packages/ipykernel_launcher.py:21: RuntimeWarning: invalid value encountered in true_divide\n",
            "/usr/local/lib/python3.7/dist-packages/ipykernel_launcher.py:21: RuntimeWarning: invalid value encountered in true_divide\n",
            "/usr/local/lib/python3.7/dist-packages/ipykernel_launcher.py:21: RuntimeWarning: invalid value encountered in true_divide\n",
            "/usr/local/lib/python3.7/dist-packages/ipykernel_launcher.py:21: RuntimeWarning: invalid value encountered in true_divide\n",
            "/usr/local/lib/python3.7/dist-packages/ipykernel_launcher.py:21: RuntimeWarning: invalid value encountered in true_divide\n",
            "/usr/local/lib/python3.7/dist-packages/ipykernel_launcher.py:21: RuntimeWarning: invalid value encountered in true_divide\n",
            "/usr/local/lib/python3.7/dist-packages/ipykernel_launcher.py:21: RuntimeWarning: invalid value encountered in true_divide\n",
            "/usr/local/lib/python3.7/dist-packages/ipykernel_launcher.py:21: RuntimeWarning: invalid value encountered in true_divide\n",
            "/usr/local/lib/python3.7/dist-packages/ipykernel_launcher.py:21: RuntimeWarning: invalid value encountered in true_divide\n",
            "/usr/local/lib/python3.7/dist-packages/ipykernel_launcher.py:21: RuntimeWarning: invalid value encountered in true_divide\n",
            "/usr/local/lib/python3.7/dist-packages/ipykernel_launcher.py:21: RuntimeWarning: invalid value encountered in true_divide\n",
            "/usr/local/lib/python3.7/dist-packages/ipykernel_launcher.py:21: RuntimeWarning: invalid value encountered in true_divide\n",
            "/usr/local/lib/python3.7/dist-packages/ipykernel_launcher.py:21: RuntimeWarning: invalid value encountered in true_divide\n",
            "/usr/local/lib/python3.7/dist-packages/ipykernel_launcher.py:21: RuntimeWarning: invalid value encountered in true_divide\n",
            "/usr/local/lib/python3.7/dist-packages/ipykernel_launcher.py:21: RuntimeWarning: invalid value encountered in true_divide\n",
            "/usr/local/lib/python3.7/dist-packages/ipykernel_launcher.py:21: RuntimeWarning: invalid value encountered in true_divide\n",
            "/usr/local/lib/python3.7/dist-packages/ipykernel_launcher.py:21: RuntimeWarning: invalid value encountered in true_divide\n",
            "/usr/local/lib/python3.7/dist-packages/ipykernel_launcher.py:21: RuntimeWarning: invalid value encountered in true_divide\n",
            "/usr/local/lib/python3.7/dist-packages/ipykernel_launcher.py:21: RuntimeWarning: invalid value encountered in true_divide\n",
            "/usr/local/lib/python3.7/dist-packages/ipykernel_launcher.py:21: RuntimeWarning: invalid value encountered in true_divide\n",
            "/usr/local/lib/python3.7/dist-packages/ipykernel_launcher.py:21: RuntimeWarning: invalid value encountered in true_divide\n",
            "/usr/local/lib/python3.7/dist-packages/ipykernel_launcher.py:21: RuntimeWarning: invalid value encountered in true_divide\n",
            "/usr/local/lib/python3.7/dist-packages/ipykernel_launcher.py:21: RuntimeWarning: invalid value encountered in true_divide\n",
            "/usr/local/lib/python3.7/dist-packages/ipykernel_launcher.py:21: RuntimeWarning: invalid value encountered in true_divide\n",
            "/usr/local/lib/python3.7/dist-packages/ipykernel_launcher.py:21: RuntimeWarning: invalid value encountered in true_divide\n",
            "/usr/local/lib/python3.7/dist-packages/ipykernel_launcher.py:21: RuntimeWarning: invalid value encountered in true_divide\n",
            "/usr/local/lib/python3.7/dist-packages/ipykernel_launcher.py:21: RuntimeWarning: invalid value encountered in true_divide\n",
            "/usr/local/lib/python3.7/dist-packages/ipykernel_launcher.py:21: RuntimeWarning: invalid value encountered in true_divide\n",
            "/usr/local/lib/python3.7/dist-packages/ipykernel_launcher.py:21: RuntimeWarning: invalid value encountered in true_divide\n",
            "/usr/local/lib/python3.7/dist-packages/ipykernel_launcher.py:21: RuntimeWarning: invalid value encountered in true_divide\n",
            "/usr/local/lib/python3.7/dist-packages/ipykernel_launcher.py:21: RuntimeWarning: invalid value encountered in true_divide\n",
            "/usr/local/lib/python3.7/dist-packages/ipykernel_launcher.py:21: RuntimeWarning: invalid value encountered in true_divide\n",
            "/usr/local/lib/python3.7/dist-packages/ipykernel_launcher.py:21: RuntimeWarning: invalid value encountered in true_divide\n",
            "/usr/local/lib/python3.7/dist-packages/ipykernel_launcher.py:21: RuntimeWarning: invalid value encountered in true_divide\n",
            "/usr/local/lib/python3.7/dist-packages/ipykernel_launcher.py:21: RuntimeWarning: invalid value encountered in true_divide\n",
            "/usr/local/lib/python3.7/dist-packages/ipykernel_launcher.py:21: RuntimeWarning: invalid value encountered in true_divide\n",
            "/usr/local/lib/python3.7/dist-packages/ipykernel_launcher.py:21: RuntimeWarning: invalid value encountered in true_divide\n",
            "/usr/local/lib/python3.7/dist-packages/ipykernel_launcher.py:21: RuntimeWarning: invalid value encountered in true_divide\n",
            "/usr/local/lib/python3.7/dist-packages/ipykernel_launcher.py:21: RuntimeWarning: invalid value encountered in true_divide\n",
            "/usr/local/lib/python3.7/dist-packages/ipykernel_launcher.py:21: RuntimeWarning: invalid value encountered in true_divide\n",
            "/usr/local/lib/python3.7/dist-packages/ipykernel_launcher.py:21: RuntimeWarning: invalid value encountered in true_divide\n",
            "/usr/local/lib/python3.7/dist-packages/ipykernel_launcher.py:21: RuntimeWarning: invalid value encountered in true_divide\n",
            "/usr/local/lib/python3.7/dist-packages/ipykernel_launcher.py:21: RuntimeWarning: invalid value encountered in true_divide\n",
            "/usr/local/lib/python3.7/dist-packages/ipykernel_launcher.py:21: RuntimeWarning: invalid value encountered in true_divide\n",
            "/usr/local/lib/python3.7/dist-packages/ipykernel_launcher.py:21: RuntimeWarning: invalid value encountered in true_divide\n",
            "/usr/local/lib/python3.7/dist-packages/ipykernel_launcher.py:21: RuntimeWarning: invalid value encountered in true_divide\n",
            "/usr/local/lib/python3.7/dist-packages/ipykernel_launcher.py:21: RuntimeWarning: invalid value encountered in true_divide\n",
            "/usr/local/lib/python3.7/dist-packages/ipykernel_launcher.py:21: RuntimeWarning: invalid value encountered in true_divide\n",
            "/usr/local/lib/python3.7/dist-packages/ipykernel_launcher.py:21: RuntimeWarning: invalid value encountered in true_divide\n",
            "/usr/local/lib/python3.7/dist-packages/ipykernel_launcher.py:21: RuntimeWarning: invalid value encountered in true_divide\n",
            "/usr/local/lib/python3.7/dist-packages/ipykernel_launcher.py:21: RuntimeWarning: invalid value encountered in true_divide\n",
            "/usr/local/lib/python3.7/dist-packages/ipykernel_launcher.py:21: RuntimeWarning: invalid value encountered in true_divide\n",
            "/usr/local/lib/python3.7/dist-packages/ipykernel_launcher.py:21: RuntimeWarning: invalid value encountered in true_divide\n",
            "/usr/local/lib/python3.7/dist-packages/ipykernel_launcher.py:21: RuntimeWarning: invalid value encountered in true_divide\n",
            "/usr/local/lib/python3.7/dist-packages/ipykernel_launcher.py:21: RuntimeWarning: invalid value encountered in true_divide\n",
            "/usr/local/lib/python3.7/dist-packages/ipykernel_launcher.py:21: RuntimeWarning: invalid value encountered in true_divide\n",
            "/usr/local/lib/python3.7/dist-packages/ipykernel_launcher.py:21: RuntimeWarning: invalid value encountered in true_divide\n",
            "/usr/local/lib/python3.7/dist-packages/ipykernel_launcher.py:21: RuntimeWarning: invalid value encountered in true_divide\n",
            "/usr/local/lib/python3.7/dist-packages/ipykernel_launcher.py:21: RuntimeWarning: invalid value encountered in true_divide\n",
            "/usr/local/lib/python3.7/dist-packages/ipykernel_launcher.py:21: RuntimeWarning: invalid value encountered in true_divide\n",
            "/usr/local/lib/python3.7/dist-packages/ipykernel_launcher.py:21: RuntimeWarning: invalid value encountered in true_divide\n",
            "/usr/local/lib/python3.7/dist-packages/ipykernel_launcher.py:21: RuntimeWarning: invalid value encountered in true_divide\n",
            "/usr/local/lib/python3.7/dist-packages/ipykernel_launcher.py:21: RuntimeWarning: invalid value encountered in true_divide\n",
            "/usr/local/lib/python3.7/dist-packages/ipykernel_launcher.py:21: RuntimeWarning: invalid value encountered in true_divide\n",
            "/usr/local/lib/python3.7/dist-packages/ipykernel_launcher.py:21: RuntimeWarning: invalid value encountered in true_divide\n",
            "/usr/local/lib/python3.7/dist-packages/ipykernel_launcher.py:21: RuntimeWarning: invalid value encountered in true_divide\n",
            "/usr/local/lib/python3.7/dist-packages/ipykernel_launcher.py:21: RuntimeWarning: invalid value encountered in true_divide\n",
            "/usr/local/lib/python3.7/dist-packages/ipykernel_launcher.py:21: RuntimeWarning: invalid value encountered in true_divide\n",
            "/usr/local/lib/python3.7/dist-packages/ipykernel_launcher.py:21: RuntimeWarning: invalid value encountered in true_divide\n",
            "/usr/local/lib/python3.7/dist-packages/ipykernel_launcher.py:21: RuntimeWarning: invalid value encountered in true_divide\n",
            "/usr/local/lib/python3.7/dist-packages/ipykernel_launcher.py:21: RuntimeWarning: invalid value encountered in true_divide\n",
            "/usr/local/lib/python3.7/dist-packages/ipykernel_launcher.py:21: RuntimeWarning: invalid value encountered in true_divide\n",
            "/usr/local/lib/python3.7/dist-packages/ipykernel_launcher.py:21: RuntimeWarning: invalid value encountered in true_divide\n",
            "/usr/local/lib/python3.7/dist-packages/ipykernel_launcher.py:21: RuntimeWarning: invalid value encountered in true_divide\n",
            "/usr/local/lib/python3.7/dist-packages/ipykernel_launcher.py:21: RuntimeWarning: invalid value encountered in true_divide\n",
            "/usr/local/lib/python3.7/dist-packages/ipykernel_launcher.py:21: RuntimeWarning: invalid value encountered in true_divide\n",
            "/usr/local/lib/python3.7/dist-packages/ipykernel_launcher.py:21: RuntimeWarning: invalid value encountered in true_divide\n",
            "/usr/local/lib/python3.7/dist-packages/ipykernel_launcher.py:21: RuntimeWarning: invalid value encountered in true_divide\n",
            "/usr/local/lib/python3.7/dist-packages/ipykernel_launcher.py:21: RuntimeWarning: invalid value encountered in true_divide\n",
            "/usr/local/lib/python3.7/dist-packages/ipykernel_launcher.py:21: RuntimeWarning: invalid value encountered in true_divide\n",
            "/usr/local/lib/python3.7/dist-packages/ipykernel_launcher.py:21: RuntimeWarning: invalid value encountered in true_divide\n",
            "/usr/local/lib/python3.7/dist-packages/ipykernel_launcher.py:21: RuntimeWarning: invalid value encountered in true_divide\n",
            "/usr/local/lib/python3.7/dist-packages/ipykernel_launcher.py:21: RuntimeWarning: invalid value encountered in true_divide\n",
            "/usr/local/lib/python3.7/dist-packages/ipykernel_launcher.py:21: RuntimeWarning: invalid value encountered in true_divide\n",
            "/usr/local/lib/python3.7/dist-packages/ipykernel_launcher.py:21: RuntimeWarning: invalid value encountered in true_divide\n",
            "/usr/local/lib/python3.7/dist-packages/ipykernel_launcher.py:21: RuntimeWarning: invalid value encountered in true_divide\n",
            "/usr/local/lib/python3.7/dist-packages/ipykernel_launcher.py:21: RuntimeWarning: invalid value encountered in true_divide\n",
            "/usr/local/lib/python3.7/dist-packages/ipykernel_launcher.py:21: RuntimeWarning: invalid value encountered in true_divide\n",
            "/usr/local/lib/python3.7/dist-packages/ipykernel_launcher.py:21: RuntimeWarning: invalid value encountered in true_divide\n",
            "/usr/local/lib/python3.7/dist-packages/ipykernel_launcher.py:21: RuntimeWarning: invalid value encountered in true_divide\n",
            "/usr/local/lib/python3.7/dist-packages/ipykernel_launcher.py:21: RuntimeWarning: invalid value encountered in true_divide\n",
            "/usr/local/lib/python3.7/dist-packages/ipykernel_launcher.py:21: RuntimeWarning: invalid value encountered in true_divide\n",
            "/usr/local/lib/python3.7/dist-packages/ipykernel_launcher.py:21: RuntimeWarning: invalid value encountered in true_divide\n",
            "/usr/local/lib/python3.7/dist-packages/ipykernel_launcher.py:21: RuntimeWarning: invalid value encountered in true_divide\n",
            "/usr/local/lib/python3.7/dist-packages/ipykernel_launcher.py:21: RuntimeWarning: invalid value encountered in true_divide\n",
            "/usr/local/lib/python3.7/dist-packages/ipykernel_launcher.py:21: RuntimeWarning: invalid value encountered in true_divide\n",
            "/usr/local/lib/python3.7/dist-packages/ipykernel_launcher.py:21: RuntimeWarning: invalid value encountered in true_divide\n",
            "/usr/local/lib/python3.7/dist-packages/ipykernel_launcher.py:21: RuntimeWarning: invalid value encountered in true_divide\n",
            "/usr/local/lib/python3.7/dist-packages/ipykernel_launcher.py:21: RuntimeWarning: invalid value encountered in true_divide\n",
            "/usr/local/lib/python3.7/dist-packages/ipykernel_launcher.py:21: RuntimeWarning: invalid value encountered in true_divide\n",
            "/usr/local/lib/python3.7/dist-packages/ipykernel_launcher.py:21: RuntimeWarning: invalid value encountered in true_divide\n",
            "/usr/local/lib/python3.7/dist-packages/ipykernel_launcher.py:21: RuntimeWarning: invalid value encountered in true_divide\n",
            "/usr/local/lib/python3.7/dist-packages/ipykernel_launcher.py:21: RuntimeWarning: invalid value encountered in true_divide\n",
            "/usr/local/lib/python3.7/dist-packages/ipykernel_launcher.py:21: RuntimeWarning: invalid value encountered in true_divide\n",
            "/usr/local/lib/python3.7/dist-packages/ipykernel_launcher.py:21: RuntimeWarning: invalid value encountered in true_divide\n",
            "/usr/local/lib/python3.7/dist-packages/ipykernel_launcher.py:21: RuntimeWarning: invalid value encountered in true_divide\n",
            "/usr/local/lib/python3.7/dist-packages/ipykernel_launcher.py:21: RuntimeWarning: invalid value encountered in true_divide\n",
            "/usr/local/lib/python3.7/dist-packages/ipykernel_launcher.py:21: RuntimeWarning: invalid value encountered in true_divide\n",
            "/usr/local/lib/python3.7/dist-packages/ipykernel_launcher.py:21: RuntimeWarning: invalid value encountered in true_divide\n",
            "/usr/local/lib/python3.7/dist-packages/ipykernel_launcher.py:21: RuntimeWarning: invalid value encountered in true_divide\n",
            "/usr/local/lib/python3.7/dist-packages/ipykernel_launcher.py:21: RuntimeWarning: invalid value encountered in true_divide\n",
            "/usr/local/lib/python3.7/dist-packages/ipykernel_launcher.py:21: RuntimeWarning: invalid value encountered in true_divide\n",
            "/usr/local/lib/python3.7/dist-packages/ipykernel_launcher.py:21: RuntimeWarning: invalid value encountered in true_divide\n",
            "/usr/local/lib/python3.7/dist-packages/ipykernel_launcher.py:21: RuntimeWarning: invalid value encountered in true_divide\n",
            "/usr/local/lib/python3.7/dist-packages/ipykernel_launcher.py:21: RuntimeWarning: invalid value encountered in true_divide\n",
            "/usr/local/lib/python3.7/dist-packages/ipykernel_launcher.py:21: RuntimeWarning: invalid value encountered in true_divide\n",
            "/usr/local/lib/python3.7/dist-packages/ipykernel_launcher.py:21: RuntimeWarning: invalid value encountered in true_divide\n",
            "/usr/local/lib/python3.7/dist-packages/ipykernel_launcher.py:21: RuntimeWarning: invalid value encountered in true_divide\n",
            "/usr/local/lib/python3.7/dist-packages/ipykernel_launcher.py:21: RuntimeWarning: invalid value encountered in true_divide\n",
            "/usr/local/lib/python3.7/dist-packages/ipykernel_launcher.py:21: RuntimeWarning: invalid value encountered in true_divide\n",
            "/usr/local/lib/python3.7/dist-packages/ipykernel_launcher.py:21: RuntimeWarning: invalid value encountered in true_divide\n",
            "/usr/local/lib/python3.7/dist-packages/ipykernel_launcher.py:21: RuntimeWarning: invalid value encountered in true_divide\n",
            "/usr/local/lib/python3.7/dist-packages/ipykernel_launcher.py:21: RuntimeWarning: invalid value encountered in true_divide\n",
            "/usr/local/lib/python3.7/dist-packages/ipykernel_launcher.py:21: RuntimeWarning: invalid value encountered in true_divide\n"
          ],
          "name": "stderr"
        },
        {
          "output_type": "execute_result",
          "data": {
            "text/plain": [
              "Text(0.5, 1.0, 'KDE Model Performance')"
            ]
          },
          "metadata": {
            "tags": []
          },
          "execution_count": 179
        },
        {
          "output_type": "display_data",
          "data": {
            "image/png": "[encoded data removed]",
            "text/plain": [
              "<Figure size 432x288 with 1 Axes>"
            ]
          },
          "metadata": {
            "tags": [],
            "needs_background": "light"
          }
        }
      ]
    },
    {
      "cell_type": "code",
      "metadata": {
        "colab": {
          "base_uri": "https://localhost:8080/"
        },
        "id": "14MbrAtKy3NH",
        "outputId": "798df21c-c712-4a54-fa6f-9b57b9d40d4a"
      },
      "source": [
        "print(\"best bandwidth = {0}\".format(grid.best_estimator_.bandwidth))\n",
        "print('the best estimator for CV is : ', grid.best_score_ * 100)\n",
        "print(\"the accuracy is : \" + str(round(accuracy_score(y_pred, y_val) * 100, 2)))\n",
        "c_matrix = confusion_matrix(y_val, y_pred)\n",
        "print(\"the confusion matrix  is :  \\n \"  + str(c_matrix))"
      ],
      "execution_count": null,
      "outputs": [
        {
          "output_type": "stream",
          "text": [
            "best bandwidth = 0.5134832907437549\n",
            "the best estimator for CV is :  69.0\n",
            "the accuracy is : 70.98\n",
            "the confusion matrix  is :  \n",
            " [[ 440  210    1]\n",
            " [  86 1637   72]\n",
            " [   4  549  178]]\n"
          ],
          "name": "stdout"
        }
      ]
    },
    {
      "cell_type": "code",
      "metadata": {
        "colab": {
          "base_uri": "https://localhost:8080/"
        },
        "id": "73mapJT3HOaq",
        "outputId": "94edaaac-511b-4cb6-d226-a2c3d3624ada"
      },
      "source": [
        "print(\"Total misclassification errors:\")\n",
        "classification_errors = c_matrix[0][1]  + c_matrix[0][2] + c_matrix[1][0] + c_matrix[1][2] + c_matrix[2][0] + c_matrix[2][1]\n",
        "print(classification_errors)\n",
        "print(\"Accuracy:\")\n",
        "accuracy = ((c_matrix[0][0] + c_matrix[1][1] + c_matrix[2][2]) / (len(X))) * 100\n",
        "print(\"%s%%\" % accuracy)"
      ],
      "execution_count": null,
      "outputs": [
        {
          "output_type": "stream",
          "text": [
            "Total misclassification errors:\n",
            "922\n",
            "Accuracy:\n",
            "53.98611443619823%\n"
          ],
          "name": "stdout"
        }
      ]
    },
    {
      "cell_type": "markdown",
      "metadata": {
        "id": "Sp5yaBIvsa4z"
      },
      "source": [
        "**3-Naive Estimator**"
      ]
    },
    {
      "cell_type": "markdown",
      "metadata": {
        "id": "sjZ5rqE0dKNO"
      },
      "source": [
        "![naive.PNG](data:image/png;base64,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)"
      ]
    },
    {
      "cell_type": "code",
      "metadata": {
        "id": "92CjuYDXXng7"
      },
      "source": [
        "X_train, X_val, y_train, y_val = train_test_split(X,y, train_size=100, random_state=2)\n",
        "X1=data['Diameter']\n",
        "X2=data['Height']\n",
        "X3=data['Whole weight']\n",
        "X4=data['Shucked weight']\n",
        "X5=data['Viscera weight']\n",
        "X6=data['Shell weight']\n",
        "X7=data['Length']\n",
        "X8=data['Sex']\n",
        "X_train, X_val, y_train, y_val = train_test_split(X,y, train_size=100, random_state=2)\n"
      ],
      "execution_count": null,
      "outputs": []
    },
    {
      "cell_type": "code",
      "metadata": {
        "id": "MeBhlvMVmSy6"
      },
      "source": [
        "def calc_prior(features, target):\n",
        "    rows = features.shape[0]\n",
        "    prior = (features.groupby(target).apply(lambda x: len(x))/rows).to_numpy()\n",
        "    return prior"
      ],
      "execution_count": null,
      "outputs": []
    },
    {
      "cell_type": "code",
      "metadata": {
        "colab": {
          "base_uri": "https://localhost:8080/"
        },
        "id": "0-HuYDgkX7Se",
        "outputId": "d86e58a1-6256-4efa-edf6-ca4423b5e47a"
      },
      "source": [
        "print(calc_prior(X1,y))"
      ],
      "execution_count": null,
      "outputs": [
        {
          "output_type": "stream",
          "text": [
            "[0.20086186 0.56930812 0.22983002]\n"
          ],
          "name": "stdout"
        }
      ]
    },
    {
      "cell_type": "code",
      "metadata": {
        "id": "sI9caAz-Ybg4"
      },
      "source": [
        "def calculate_probability_density(data_array,x,bandwidth=0.1):\n",
        "\n",
        "    def weight_est(x) :\n",
        "        for row in x:\n",
        "            if abs(row) >= 1 :\n",
        "                return 1/2\n",
        "            else : \n",
        "                return 0\n",
        "\n",
        "    N=len(data_array)\n",
        "    res=0\n",
        "\n",
        "    if len(data_array)==0:\n",
        "        return 0\n",
        "\n",
        "    for i in range(len(data_array)):\n",
        "\n",
        "        res += weight_est((x-data_array[i])/bandwidth)\n",
        "\n",
        "    res /= (N*bandwidth)\n",
        "\n",
        "    return res "
      ],
      "execution_count": null,
      "outputs": []
    },
    {
      "cell_type": "code",
      "metadata": {
        "colab": {
          "base_uri": "https://localhost:8080/"
        },
        "id": "CtR3J2RaZT55",
        "outputId": "e9c29a1d-20fa-42ff-f83b-8a00a6c740fc"
      },
      "source": [
        "calculate_probability_density(X1,X1,0.2)"
      ],
      "execution_count": null,
      "outputs": [
        {
          "output_type": "execute_result",
          "data": {
            "text/plain": [
              "0.09576250897773521"
            ]
          },
          "metadata": {
            "tags": []
          },
          "execution_count": 160
        }
      ]
    },
    {
      "cell_type": "code",
      "metadata": {
        "id": "IYLFLNLNb2yR"
      },
      "source": [
        "def _calc_predictor_prior(self):\n",
        "\t\tfor feature in self.features:\n",
        "\t\t\tfeat_vals = self.X_train[feature].value_counts().to_dict()\n",
        "\n",
        "\t\t\tfor feat_val, count in feat_vals.items():\n",
        "\t\t\t\tself.pred_priors[feature][feat_val] = count/self.train_size"
      ],
      "execution_count": null,
      "outputs": []
    },
    {
      "cell_type": "code",
      "metadata": {
        "id": "giW4roVv_gcy"
      },
      "source": [
        "   def calc_posterior(self, x):\n",
        "        posteriors = []\n",
        "\n",
        "        # calculate posterior probability for each class\n",
        "        for i in range(self.count):\n",
        "            prior = np.log(self.prior[i]) ## use the log to make it more numerically stable\n",
        "            conditional = np.sum(np.log(self.calculate_probability_density(i, x, bandwith))) # use the log to make it more numerically stable\n",
        "            posterior = prior + conditional\n",
        "            posteriors.append(posterior)\n",
        "        # return class with highest posterior probability\n",
        "        return self.classes[np.argmax(posteriors)]"
      ],
      "execution_count": null,
      "outputs": []
    }
  ]
}